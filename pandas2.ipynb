{
 "cells": [
  {
   "cell_type": "markdown",
   "id": "ebfbbf90",
   "metadata": {},
   "source": [
    "## Pandas Tutorial_part2\n",
    "*Today we will cover how to create a Data Frame? We have different ways of creating a Data Frame:*\n",
    "\n",
    "1. Using CSV file\n",
    "2. Using Excel File\n",
    "3. From Python Dictionary\n",
    "4. From list of Tuples\n",
    "5. From list of Dictionaries\n",
    "\n",
    "To know on advanced level then go and check **pandas documentation**..."
   ]
  },
  {
   "cell_type": "code",
   "execution_count": null,
   "id": "2224ae72",
   "metadata": {},
   "outputs": [],
   "source": [
    "# Using CSV file"
   ]
  }
 ],
 "metadata": {
  "kernelspec": {
   "display_name": "Python 3 (ipykernel)",
   "language": "python",
   "name": "python3"
  },
  "language_info": {
   "codemirror_mode": {
    "name": "ipython",
    "version": 3
   },
   "file_extension": ".py",
   "mimetype": "text/x-python",
   "name": "python",
   "nbconvert_exporter": "python",
   "pygments_lexer": "ipython3",
   "version": "3.9.12"
  }
 },
 "nbformat": 4,
 "nbformat_minor": 5
}
