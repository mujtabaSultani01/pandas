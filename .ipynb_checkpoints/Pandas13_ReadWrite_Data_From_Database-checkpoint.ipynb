{
 "cells": [
  {
   "cell_type": "markdown",
   "id": "66534671",
   "metadata": {},
   "source": [
    "## Pandas Tutorial_part12\n",
    "**Pandas Read-write data From Database:** reading database records into pandas dataframe and writing back to it."
   ]
  },
  {
   "cell_type": "code",
   "execution_count": null,
   "id": "a2c43c8a",
   "metadata": {},
   "outputs": [],
   "source": []
  }
 ],
 "metadata": {
  "kernelspec": {
   "display_name": "Python 3 (ipykernel)",
   "language": "python",
   "name": "python3"
  },
  "language_info": {
   "codemirror_mode": {
    "name": "ipython",
    "version": 3
   },
   "file_extension": ".py",
   "mimetype": "text/x-python",
   "name": "python",
   "nbconvert_exporter": "python",
   "pygments_lexer": "ipython3",
   "version": "3.9.12"
  }
 },
 "nbformat": 4,
 "nbformat_minor": 5
}
