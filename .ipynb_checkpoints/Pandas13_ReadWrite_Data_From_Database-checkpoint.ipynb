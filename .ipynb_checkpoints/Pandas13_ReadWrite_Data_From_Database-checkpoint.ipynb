{
 "cells": [
  {
   "cell_type": "markdown",
   "id": "66534671",
   "metadata": {},
   "source": [
    "## Pandas Tutorial_part13\n",
    "**Pandas Read-write data From Database:** reading database records into pandas dataframe and writing back to it."
   ]
  },
  {
   "cell_type": "code",
   "execution_count": 2,
   "id": "a2c43c8a",
   "metadata": {},
   "outputs": [],
   "source": [
    "import pandas as pd\n",
    "import sqlalchemy"
   ]
  },
  {
   "cell_type": "markdown",
   "id": "60816ee9",
   "metadata": {},
   "source": [
    "![](conn_string_format.jpg)"
   ]
  },
  {
   "cell_type": "code",
   "execution_count": 7,
   "id": "6af2ccae",
   "metadata": {},
   "outputs": [],
   "source": [
    "# First of all you need to install both 'sqlalchemy=> pip install sqlalchemy' and 'PyMySQL=> pip install PyMySQL'.\n",
    "# Database name is 'test1'\n",
    "# MySQL server must be on.\n",
    "engine = sqlalchemy.create_engine(\"mysql+pymysql://root:@localhost:3306/test1\")"
   ]
  },
  {
   "cell_type": "markdown",
   "id": "c0b2bcc9",
   "metadata": {},
   "source": [
    "**Let's have couple of tables like as follow:**"
   ]
  },
  {
   "cell_type": "markdown",
   "id": "5b9a0efb",
   "metadata": {},
   "source": [
    "![](db_tables.jpg)"
   ]
  },
  {
   "cell_type": "code",
   "execution_count": 8,
   "id": "ea139efb",
   "metadata": {},
   "outputs": [
    {
     "data": {
      "text/html": [
       "<div>\n",
       "<style scoped>\n",
       "    .dataframe tbody tr th:only-of-type {\n",
       "        vertical-align: middle;\n",
       "    }\n",
       "\n",
       "    .dataframe tbody tr th {\n",
       "        vertical-align: top;\n",
       "    }\n",
       "\n",
       "    .dataframe thead th {\n",
       "        text-align: right;\n",
       "    }\n",
       "</style>\n",
       "<table border=\"1\" class=\"dataframe\">\n",
       "  <thead>\n",
       "    <tr style=\"text-align: right;\">\n",
       "      <th></th>\n",
       "      <th>id</th>\n",
       "      <th>name</th>\n",
       "      <th>phone_number</th>\n",
       "    </tr>\n",
       "  </thead>\n",
       "  <tbody>\n",
       "    <tr>\n",
       "      <th>0</th>\n",
       "      <td>1</td>\n",
       "      <td>ali</td>\n",
       "      <td>787667564</td>\n",
       "    </tr>\n",
       "    <tr>\n",
       "      <th>1</th>\n",
       "      <td>2</td>\n",
       "      <td>ahmad</td>\n",
       "      <td>77765765</td>\n",
       "    </tr>\n",
       "    <tr>\n",
       "      <th>2</th>\n",
       "      <td>3</td>\n",
       "      <td>wakil</td>\n",
       "      <td>798767864</td>\n",
       "    </tr>\n",
       "  </tbody>\n",
       "</table>\n",
       "</div>"
      ],
      "text/plain": [
       "   id   name  phone_number\n",
       "0   1    ali     787667564\n",
       "1   2  ahmad      77765765\n",
       "2   3  wakil     798767864"
      ]
     },
     "execution_count": 8,
     "metadata": {},
     "output_type": "execute_result"
    }
   ],
   "source": [
    "# Reading customer table records...\n",
    "df=pd.read_sql_table(\"customers\",engine)\n",
    "df"
   ]
  },
  {
   "cell_type": "code",
   "execution_count": 10,
   "id": "146657ed",
   "metadata": {},
   "outputs": [
    {
     "data": {
      "text/html": [
       "<div>\n",
       "<style scoped>\n",
       "    .dataframe tbody tr th:only-of-type {\n",
       "        vertical-align: middle;\n",
       "    }\n",
       "\n",
       "    .dataframe tbody tr th {\n",
       "        vertical-align: top;\n",
       "    }\n",
       "\n",
       "    .dataframe thead th {\n",
       "        text-align: right;\n",
       "    }\n",
       "</style>\n",
       "<table border=\"1\" class=\"dataframe\">\n",
       "  <thead>\n",
       "    <tr style=\"text-align: right;\">\n",
       "      <th></th>\n",
       "      <th>name</th>\n",
       "      <th>phone_number</th>\n",
       "    </tr>\n",
       "  </thead>\n",
       "  <tbody>\n",
       "    <tr>\n",
       "      <th>0</th>\n",
       "      <td>ali</td>\n",
       "      <td>787667564</td>\n",
       "    </tr>\n",
       "    <tr>\n",
       "      <th>1</th>\n",
       "      <td>ahmad</td>\n",
       "      <td>77765765</td>\n",
       "    </tr>\n",
       "    <tr>\n",
       "      <th>2</th>\n",
       "      <td>wakil</td>\n",
       "      <td>798767864</td>\n",
       "    </tr>\n",
       "  </tbody>\n",
       "</table>\n",
       "</div>"
      ],
      "text/plain": [
       "    name  phone_number\n",
       "0    ali     787667564\n",
       "1  ahmad      77765765\n",
       "2  wakil     798767864"
      ]
     },
     "execution_count": 10,
     "metadata": {},
     "output_type": "execute_result"
    }
   ],
   "source": [
    "# We can also read a few records.\n",
    "df=pd.read_sql_table(\"customers\", engine, columns=['name', 'phone_number'])\n",
    "df"
   ]
  },
  {
   "cell_type": "code",
   "execution_count": 12,
   "id": "02ecfd96",
   "metadata": {},
   "outputs": [
    {
     "data": {
      "text/html": [
       "<div>\n",
       "<style scoped>\n",
       "    .dataframe tbody tr th:only-of-type {\n",
       "        vertical-align: middle;\n",
       "    }\n",
       "\n",
       "    .dataframe tbody tr th {\n",
       "        vertical-align: top;\n",
       "    }\n",
       "\n",
       "    .dataframe thead th {\n",
       "        text-align: right;\n",
       "    }\n",
       "</style>\n",
       "<table border=\"1\" class=\"dataframe\">\n",
       "  <thead>\n",
       "    <tr style=\"text-align: right;\">\n",
       "      <th></th>\n",
       "      <th>name</th>\n",
       "      <th>phone_number</th>\n",
       "      <th>name</th>\n",
       "      <th>amount</th>\n",
       "    </tr>\n",
       "  </thead>\n",
       "  <tbody>\n",
       "    <tr>\n",
       "      <th>0</th>\n",
       "      <td>ali</td>\n",
       "      <td>787667564</td>\n",
       "      <td>Farhad</td>\n",
       "      <td>40</td>\n",
       "    </tr>\n",
       "    <tr>\n",
       "      <th>1</th>\n",
       "      <td>wakil</td>\n",
       "      <td>798767864</td>\n",
       "      <td>Nasim</td>\n",
       "      <td>35</td>\n",
       "    </tr>\n",
       "    <tr>\n",
       "      <th>2</th>\n",
       "      <td>ahmad</td>\n",
       "      <td>77765765</td>\n",
       "      <td>Faisal</td>\n",
       "      <td>50</td>\n",
       "    </tr>\n",
       "  </tbody>\n",
       "</table>\n",
       "</div>"
      ],
      "text/plain": [
       "    name  phone_number    name  amount\n",
       "0    ali     787667564  Farhad      40\n",
       "1  wakil     798767864   Nasim      35\n",
       "2  ahmad      77765765  Faisal      50"
      ]
     },
     "execution_count": 12,
     "metadata": {},
     "output_type": "execute_result"
    }
   ],
   "source": [
    "# We can join both the tables which are in test1 db and write their data into pandas:\n",
    "query='''\n",
    "Select customers.name, customers.phone_number, orders.name, orders.amount\n",
    "From customers INNER JOIN orders\n",
    "ON customers.id=orders.customer_id\n",
    "'''\n",
    "df=pd.read_sql_query(query, engine)\n",
    "df"
   ]
  },
  {
   "cell_type": "code",
   "execution_count": 13,
   "id": "0727df90",
   "metadata": {},
   "outputs": [],
   "source": [
    "# The upper query is very simple, if you have big reports to read then you can use 'chunksize' argument.\n",
    "# For other argument you can check 'pandas.read_sql_query' documentation."
   ]
  },
  {
   "cell_type": "code",
   "execution_count": 16,
   "id": "db8bc9c2",
   "metadata": {},
   "outputs": [
    {
     "data": {
      "text/html": [
       "<div>\n",
       "<style scoped>\n",
       "    .dataframe tbody tr th:only-of-type {\n",
       "        vertical-align: middle;\n",
       "    }\n",
       "\n",
       "    .dataframe tbody tr th {\n",
       "        vertical-align: top;\n",
       "    }\n",
       "\n",
       "    .dataframe thead th {\n",
       "        text-align: right;\n",
       "    }\n",
       "</style>\n",
       "<table border=\"1\" class=\"dataframe\">\n",
       "  <thead>\n",
       "    <tr style=\"text-align: right;\">\n",
       "      <th></th>\n",
       "      <th>Customer Name</th>\n",
       "      <th>Customer Phone</th>\n",
       "    </tr>\n",
       "  </thead>\n",
       "  <tbody>\n",
       "    <tr>\n",
       "      <th>0</th>\n",
       "      <td>rafael nadal</td>\n",
       "      <td>4567895647</td>\n",
       "    </tr>\n",
       "    <tr>\n",
       "      <th>1</th>\n",
       "      <td>maria sharapova</td>\n",
       "      <td>434534545</td>\n",
       "    </tr>\n",
       "    <tr>\n",
       "      <th>2</th>\n",
       "      <td>vladimir putin</td>\n",
       "      <td>89345345</td>\n",
       "    </tr>\n",
       "    <tr>\n",
       "      <th>3</th>\n",
       "      <td>kim un jong</td>\n",
       "      <td>123434456</td>\n",
       "    </tr>\n",
       "    <tr>\n",
       "      <th>4</th>\n",
       "      <td>jeff bezos</td>\n",
       "      <td>934534543</td>\n",
       "    </tr>\n",
       "    <tr>\n",
       "      <th>5</th>\n",
       "      <td>rahul gandhi</td>\n",
       "      <td>44324222</td>\n",
       "    </tr>\n",
       "  </tbody>\n",
       "</table>\n",
       "</div>"
      ],
      "text/plain": [
       "     Customer Name  Customer Phone\n",
       "0     rafael nadal      4567895647\n",
       "1  maria sharapova       434534545\n",
       "2   vladimir putin        89345345\n",
       "3      kim un jong       123434456\n",
       "4       jeff bezos       934534543\n",
       "5     rahul gandhi        44324222"
      ]
     },
     "execution_count": 16,
     "metadata": {},
     "output_type": "execute_result"
    }
   ],
   "source": [
    "# Now let's have a reverse operations, means back writing from DataFrame into 'sql tables':\n",
    "# So here we have .csv file which have a customer data, we want to load it into customer table.\n",
    "df=pd.read_csv(\"customers.csv\")\n",
    "df"
   ]
  },
  {
   "cell_type": "code",
   "execution_count": 18,
   "id": "f4de2b09",
   "metadata": {},
   "outputs": [
    {
     "data": {
      "text/html": [
       "<div>\n",
       "<style scoped>\n",
       "    .dataframe tbody tr th:only-of-type {\n",
       "        vertical-align: middle;\n",
       "    }\n",
       "\n",
       "    .dataframe tbody tr th {\n",
       "        vertical-align: top;\n",
       "    }\n",
       "\n",
       "    .dataframe thead th {\n",
       "        text-align: right;\n",
       "    }\n",
       "</style>\n",
       "<table border=\"1\" class=\"dataframe\">\n",
       "  <thead>\n",
       "    <tr style=\"text-align: right;\">\n",
       "      <th></th>\n",
       "      <th>name</th>\n",
       "      <th>phone_number</th>\n",
       "    </tr>\n",
       "  </thead>\n",
       "  <tbody>\n",
       "    <tr>\n",
       "      <th>0</th>\n",
       "      <td>rafael nadal</td>\n",
       "      <td>4567895647</td>\n",
       "    </tr>\n",
       "    <tr>\n",
       "      <th>1</th>\n",
       "      <td>maria sharapova</td>\n",
       "      <td>434534545</td>\n",
       "    </tr>\n",
       "    <tr>\n",
       "      <th>2</th>\n",
       "      <td>vladimir putin</td>\n",
       "      <td>89345345</td>\n",
       "    </tr>\n",
       "    <tr>\n",
       "      <th>3</th>\n",
       "      <td>kim un jong</td>\n",
       "      <td>123434456</td>\n",
       "    </tr>\n",
       "    <tr>\n",
       "      <th>4</th>\n",
       "      <td>jeff bezos</td>\n",
       "      <td>934534543</td>\n",
       "    </tr>\n",
       "    <tr>\n",
       "      <th>5</th>\n",
       "      <td>rahul gandhi</td>\n",
       "      <td>44324222</td>\n",
       "    </tr>\n",
       "  </tbody>\n",
       "</table>\n",
       "</div>"
      ],
      "text/plain": [
       "              name  phone_number\n",
       "0     rafael nadal    4567895647\n",
       "1  maria sharapova     434534545\n",
       "2   vladimir putin      89345345\n",
       "3      kim un jong     123434456\n",
       "4       jeff bezos     934534543\n",
       "5     rahul gandhi      44324222"
      ]
     },
     "execution_count": 18,
     "metadata": {},
     "output_type": "execute_result"
    }
   ],
   "source": [
    "# Here we have one problem, it's we have different columns name in our dataframe then the original table column names, so we can rename it:\n",
    "df.rename(columns={\n",
    "    'Customer Name': \"name\",\n",
    "    'Customer Phone': \"phone_number\"\n",
    "}, inplace=True)\n",
    "df"
   ]
  },
  {
   "cell_type": "code",
   "execution_count": 19,
   "id": "2c3333ee",
   "metadata": {},
   "outputs": [
    {
     "data": {
      "text/plain": [
       "6"
      ]
     },
     "execution_count": 19,
     "metadata": {},
     "output_type": "execute_result"
    }
   ],
   "source": [
    "# So now we can use do_sql method to insert data into mysql table:\n",
    "df.to_sql(\n",
    "    name = 'customers',\n",
    "    con = engine,\n",
    "    index = False,\n",
    "    if_exists = 'append'\n",
    ")"
   ]
  },
  {
   "cell_type": "code",
   "execution_count": 20,
   "id": "51795e87",
   "metadata": {},
   "outputs": [],
   "source": [
    "# So the upper 'to_sql' method doesn't give an error, it means data is successully inserted into mysql table."
   ]
  },
  {
   "cell_type": "code",
   "execution_count": 21,
   "id": "c0dd93b2",
   "metadata": {},
   "outputs": [
    {
     "data": {
      "text/html": [
       "<div>\n",
       "<style scoped>\n",
       "    .dataframe tbody tr th:only-of-type {\n",
       "        vertical-align: middle;\n",
       "    }\n",
       "\n",
       "    .dataframe tbody tr th {\n",
       "        vertical-align: top;\n",
       "    }\n",
       "\n",
       "    .dataframe thead th {\n",
       "        text-align: right;\n",
       "    }\n",
       "</style>\n",
       "<table border=\"1\" class=\"dataframe\">\n",
       "  <thead>\n",
       "    <tr style=\"text-align: right;\">\n",
       "      <th></th>\n",
       "      <th>id</th>\n",
       "      <th>name</th>\n",
       "      <th>phone_number</th>\n",
       "    </tr>\n",
       "  </thead>\n",
       "  <tbody>\n",
       "    <tr>\n",
       "      <th>0</th>\n",
       "      <td>1</td>\n",
       "      <td>ali</td>\n",
       "      <td>787667564</td>\n",
       "    </tr>\n",
       "    <tr>\n",
       "      <th>1</th>\n",
       "      <td>2</td>\n",
       "      <td>ahmad</td>\n",
       "      <td>77765765</td>\n",
       "    </tr>\n",
       "    <tr>\n",
       "      <th>2</th>\n",
       "      <td>3</td>\n",
       "      <td>wakil</td>\n",
       "      <td>798767864</td>\n",
       "    </tr>\n",
       "    <tr>\n",
       "      <th>3</th>\n",
       "      <td>4</td>\n",
       "      <td>rafael nadal</td>\n",
       "      <td>2147483647</td>\n",
       "    </tr>\n",
       "    <tr>\n",
       "      <th>4</th>\n",
       "      <td>5</td>\n",
       "      <td>maria sharapova</td>\n",
       "      <td>434534545</td>\n",
       "    </tr>\n",
       "    <tr>\n",
       "      <th>5</th>\n",
       "      <td>6</td>\n",
       "      <td>vladimir putin</td>\n",
       "      <td>89345345</td>\n",
       "    </tr>\n",
       "    <tr>\n",
       "      <th>6</th>\n",
       "      <td>7</td>\n",
       "      <td>kim un jong</td>\n",
       "      <td>123434456</td>\n",
       "    </tr>\n",
       "    <tr>\n",
       "      <th>7</th>\n",
       "      <td>8</td>\n",
       "      <td>jeff bezos</td>\n",
       "      <td>934534543</td>\n",
       "    </tr>\n",
       "    <tr>\n",
       "      <th>8</th>\n",
       "      <td>9</td>\n",
       "      <td>rahul gandhi</td>\n",
       "      <td>44324222</td>\n",
       "    </tr>\n",
       "  </tbody>\n",
       "</table>\n",
       "</div>"
      ],
      "text/plain": [
       "   id             name  phone_number\n",
       "0   1              ali     787667564\n",
       "1   2            ahmad      77765765\n",
       "2   3            wakil     798767864\n",
       "3   4     rafael nadal    2147483647\n",
       "4   5  maria sharapova     434534545\n",
       "5   6   vladimir putin      89345345\n",
       "6   7      kim un jong     123434456\n",
       "7   8       jeff bezos     934534543\n",
       "8   9     rahul gandhi      44324222"
      ]
     },
     "execution_count": 21,
     "metadata": {},
     "output_type": "execute_result"
    }
   ],
   "source": [
    "# We can also use 'read_sql' method to read the data:\n",
    "pd.read_sql(\"customers\", engine)"
   ]
  },
  {
   "cell_type": "code",
   "execution_count": 22,
   "id": "149f6609",
   "metadata": {},
   "outputs": [
    {
     "data": {
      "text/html": [
       "<div>\n",
       "<style scoped>\n",
       "    .dataframe tbody tr th:only-of-type {\n",
       "        vertical-align: middle;\n",
       "    }\n",
       "\n",
       "    .dataframe tbody tr th {\n",
       "        vertical-align: top;\n",
       "    }\n",
       "\n",
       "    .dataframe thead th {\n",
       "        text-align: right;\n",
       "    }\n",
       "</style>\n",
       "<table border=\"1\" class=\"dataframe\">\n",
       "  <thead>\n",
       "    <tr style=\"text-align: right;\">\n",
       "      <th></th>\n",
       "      <th>name</th>\n",
       "    </tr>\n",
       "  </thead>\n",
       "  <tbody>\n",
       "    <tr>\n",
       "      <th>0</th>\n",
       "      <td>ahmad</td>\n",
       "    </tr>\n",
       "  </tbody>\n",
       "</table>\n",
       "</div>"
      ],
      "text/plain": [
       "    name\n",
       "0  ahmad"
      ]
     },
     "execution_count": 22,
     "metadata": {},
     "output_type": "execute_result"
    }
   ],
   "source": [
    "# We can also pass a query to 'read_sql' method.\n",
    "query='''\n",
    "Select customers.name\n",
    "From customers\n",
    "Where customers.id=2\n",
    "'''\n",
    "pd.read_sql(query, engine)"
   ]
  },
  {
   "cell_type": "code",
   "execution_count": 23,
   "id": "05dc5c71",
   "metadata": {},
   "outputs": [],
   "source": [
    "# That's were all about 'Pandas Read_Write Data from DB'"
   ]
  }
 ],
 "metadata": {
  "kernelspec": {
   "display_name": "Python 3 (ipykernel)",
   "language": "python",
   "name": "python3"
  },
  "language_info": {
   "codemirror_mode": {
    "name": "ipython",
    "version": 3
   },
   "file_extension": ".py",
   "mimetype": "text/x-python",
   "name": "python",
   "nbconvert_exporter": "python",
   "pygments_lexer": "ipython3",
   "version": "3.9.12"
  }
 },
 "nbformat": 4,
 "nbformat_minor": 5
}
