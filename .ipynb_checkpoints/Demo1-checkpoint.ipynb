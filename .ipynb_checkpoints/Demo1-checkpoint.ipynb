{
 "cells": [
  {
   "cell_type": "code",
   "execution_count": 2,
   "id": "7577a46a",
   "metadata": {
    "scrolled": true
   },
   "outputs": [
    {
     "name": "stdout",
     "output_type": "stream",
     "text": [
      "First Python Program...\n"
     ]
    }
   ],
   "source": [
    "print(\"First Python Program...\")"
   ]
  },
  {
   "cell_type": "code",
   "execution_count": 4,
   "id": "94639de3",
   "metadata": {},
   "outputs": [
    {
     "name": "stdout",
     "output_type": "stream",
     "text": [
      "Sum:  35\n"
     ]
    }
   ],
   "source": [
    "num1 = 10\n",
    "num2 = 25\n",
    "sum = num1 + num2\n",
    "print(\"Sum: \", sum)"
   ]
  },
  {
   "cell_type": "code",
   "execution_count": null,
   "id": "d10b1c56",
   "metadata": {},
   "outputs": [],
   "source": []
  }
 ],
 "metadata": {
  "kernelspec": {
   "display_name": "Python 3 (ipykernel)",
   "language": "python",
   "name": "python3"
  },
  "language_info": {
   "codemirror_mode": {
    "name": "ipython",
    "version": 3
   },
   "file_extension": ".py",
   "mimetype": "text/x-python",
   "name": "python",
   "nbconvert_exporter": "python",
   "pygments_lexer": "ipython3",
   "version": "3.9.12"
  }
 },
 "nbformat": 4,
 "nbformat_minor": 5
}
