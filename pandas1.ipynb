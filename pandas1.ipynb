{
 "cells": [
  {
   "cell_type": "markdown",
   "id": "40c4ed67",
   "metadata": {},
   "source": [
    "## Pandas Tutorial\n",
    "*This pandas tutorial will cover some basic of pandas commonds, and some basic visualization, generally here we use \n",
    "two types of charts:*\n",
    "\n",
    "1. Line Chart\n",
    "2. Bar Chart\n",
    "\n",
    "To know on advanced level then go and check the following **series**..."
   ]
  },
  {
   "cell_type": "code",
   "execution_count": null,
   "id": "2836f7d0",
   "metadata": {},
   "outputs": [],
   "source": []
  }
 ],
 "metadata": {
  "kernelspec": {
   "display_name": "Python 3 (ipykernel)",
   "language": "python",
   "name": "python3"
  },
  "language_info": {
   "codemirror_mode": {
    "name": "ipython",
    "version": 3
   },
   "file_extension": ".py",
   "mimetype": "text/x-python",
   "name": "python",
   "nbconvert_exporter": "python",
   "pygments_lexer": "ipython3",
   "version": "3.9.12"
  }
 },
 "nbformat": 4,
 "nbformat_minor": 5
}
